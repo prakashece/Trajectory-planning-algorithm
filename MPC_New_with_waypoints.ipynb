{
 "cells": [
  {
   "cell_type": "code",
   "execution_count": 3,
   "metadata": {},
   "outputs": [],
   "source": [
    "import numpy as np\n",
    "import matplotlib.pyplot as plt \n",
    "from casadi import *\n",
    "import scipy.interpolate\n",
    "import math"
   ]
  },
  {
   "cell_type": "code",
   "execution_count": 4,
   "metadata": {},
   "outputs": [],
   "source": [
    "from casadi import *\n",
    "from numpy import *\n",
    "%matplotlib inline\n",
    "#import matplotlib\n",
    "#matplotlib.use('TkAgg')\n",
    "import matplotlib.pyplot as plt\n",
    "class Iteration_Callback(Callback):\n",
    "    def __init__(self, name, nx, ng, opts={}):\n",
    "        Callback.__init__(self)\n",
    "\n",
    "        self.nx = nx\n",
    "        self.ng = ng\n",
    "\n",
    "        self.x_sols = []\n",
    "        self.f_sols = []\n",
    "        self.g_sols = []\n",
    "        self.lam_x_sols = []\n",
    "        self.lam_g_sols = []\n",
    "        self.lam_p_sols = []\n",
    "        '''\n",
    "        #for plotting the graph in realtime\n",
    "        self.fig= plt.figure()\n",
    "        self.ax1= self.fig.add_subplot(1,2,1)\n",
    "        self.ax2= self.fig.add_subplot(2,2,1)\n",
    "        self.fig.show()\n",
    "        '''\n",
    "        # Initialize internal objects\n",
    "        self.construct(name, opts)\n",
    "\n",
    "    def get_n_in(self): return nlpsol_n_out()\n",
    "    def get_n_out(self): return 1\n",
    "    def get_name_in(self, i): return nlpsol_out(i)\n",
    "    def get_name_out(self, i): return \"ret\"\n",
    "\n",
    "    def get_sparsity_in(self, i):\n",
    "        n = nlpsol_out(i)\n",
    "        if n == 'f':\n",
    "            return Sparsity.scalar()\n",
    "        elif n in ('x', 'lam_x'):\n",
    "            return Sparsity.dense(self.nx)\n",
    "        elif n in ('g', 'lam_g'):\n",
    "            return Sparsity.dense(self.ng)\n",
    "        else:\n",
    "            return Sparsity(0, 0)\n",
    "\n",
    "    def eval(self, arg):\n",
    "        \n",
    "        darg = {}\n",
    "        for (i, s) in enumerate(nlpsol_out()): darg[s] = arg[i]\n",
    "        x_sol = [float(elem) for elem in darg['x'].full()]\n",
    "        \n",
    "        self.x_sols.append(x_sol)\n",
    "        self.f_sols.append(darg['f'].full()[0][0])\n",
    "        self.g_sols.append(darg['g'].full()[0][0])\n",
    "        self.lam_x_sols.append(darg['lam_x'].full())\n",
    "        self.lam_g_sols.append(darg['lam_g'].full())\n",
    "        self.lam_p_sols.append(darg['lam_p'].full())\n",
    "        #print(\"solution\",self.f_sols)\n",
    "        '''\n",
    "        #for plotting the graph in realtime\n",
    "        self.ax1.plot(self.x_sols)\n",
    "        self.ax2.plot(self.f_sols)\n",
    "        self.fig.canvas.draw()\n",
    "        self.fig.canvas.flush_events()\n",
    "        plt.show()\n",
    "        '''\n",
    "        plt.plot(self.f_sols,color='C0')\n",
    "        #plt.plot(self.g_sols,color='C0')\n",
    "        #print(self.g_sols)\n",
    "        return[0]"
   ]
  },
  {
   "cell_type": "code",
   "execution_count": 119,
   "metadata": {},
   "outputs": [
    {
     "name": "stdout",
     "output_type": "stream",
     "text": [
      "15\n",
      "[ang_0, ang_1, ang_2, ang_3, ang_4, ang_5, ang_6, ang_7, ang_8, ang_9, ang_10, ang_11, ang_12, ang_13, ang_14, ang_15, ang_16, ang_17, ang_18, ang_19, ang_20, ang_21, ang_22, ang_23, ang_24, ang_25, ang_26, ang_27, ang_28, ang_29]\n",
      "@1=0.00045, @2=1.2, @3=(((v/@2)*tan(ang_0))*t1), @4=(@3+(((v/@2)*tan(ang_1))*t1)), @5=(@4+(((v/@2)*tan(ang_2))*t1)), @6=(@5+(((v/@2)*tan(ang_3))*t1)), @7=(@6+(((v/@2)*tan(ang_4))*t1)), @8=(@7+(((v/@2)*tan(ang_5))*t1)), @9=(@8+(((v/@2)*tan(ang_6))*t1)), @10=(@9+(((v/@2)*tan(ang_7))*t1)), @11=(@10+(((v/@2)*tan(ang_8))*t1)), @12=(@11+(((v/@2)*tan(ang_9))*t1)), @13=(@12+(((v/@2)*tan(ang_10))*t1)), @14=(@13+(((v/@2)*tan(ang_11))*t1)), @15=(@14+(((v/@2)*tan(ang_12))*t1)), @16=(@15+(((v/@2)*tan(ang_13))*t1)), @17=(((((((((((((((v*t1)+((v*cos(@3))*t1))+((v*cos(@4))*t1))+((v*cos(@5))*t1))+((v*cos(@6))*t1))+((v*cos(@7))*t1))+((v*cos(@8))*t1))+((v*cos(@9))*t1))+((v*cos(@10))*t1))+((v*cos(@11))*t1))+((v*cos(@12))*t1))+((v*cos(@13))*t1))+((v*cos(@14))*t1))+((v*cos(@15))*t1))+((v*cos(@16))*t1)), @18=2, @19=(((((((((((((((v*sin(@3))*t1)+((v*sin(@4))*t1))+((v*sin(@5))*t1))+((v*sin(@6))*t1))+((v*sin(@7))*t1))+((v*sin(@8))*t1))+((v*sin(@9))*t1))+((v*sin(@10))*t1))+((v*sin(@11))*t1))+((v*sin(@12))*t1))+((v*sin(@13))*t1))+((v*sin(@14))*t1))+((v*sin(@15))*t1))+((v*sin(@16))*t1)), @20=(@16+(((v/@2)*tan(ang_14))*t1)), @21=(@20+(((v/@2)*tan(ang_15))*t2)), @22=(@21+(((v/@2)*tan(ang_16))*t2)), @23=(@22+(((v/@2)*tan(ang_17))*t2)), @24=(@23+(((v/@2)*tan(ang_18))*t2)), @25=(@24+(((v/@2)*tan(ang_19))*t2)), @26=(@25+(((v/@2)*tan(ang_20))*t2)), @27=(@26+(((v/@2)*tan(ang_21))*t2)), @28=(@27+(((v/@2)*tan(ang_22))*t2)), @29=(@28+(((v/@2)*tan(ang_23))*t2)), @30=(@29+(((v/@2)*tan(ang_24))*t2)), @31=(@30+(((v/@2)*tan(ang_25))*t2)), @32=(@31+(((v/@2)*tan(ang_26))*t2)), @33=(@32+(((v/@2)*tan(ang_27))*t2)), @34=(@33+(((v/@2)*tan(ang_28))*t2)), @35=-0.0177, @36=1.48, @37=3.39, ((sqrt(((@1+sq((@17-@18)))+sq((@19-1))))+sqrt(((@1+sq(((((((((((((((((@17+((v*cos(@20))*t2))+((v*cos(@21))*t2))+((v*cos(@22))*t2))+((v*cos(@23))*t2))+((v*cos(@24))*t2))+((v*cos(@25))*t2))+((v*cos(@26))*t2))+((v*cos(@27))*t2))+((v*cos(@28))*t2))+((v*cos(@29))*t2))+((v*cos(@30))*t2))+((v*cos(@31))*t2))+((v*cos(@32))*t2))+((v*cos(@33))*t2))+((v*cos(@34))*t2))-3)))+sq(((((((((((((((((@19+((v*sin(@20))*t2))+((v*sin(@21))*t2))+((v*sin(@22))*t2))+((v*sin(@23))*t2))+((v*sin(@24))*t2))+((v*sin(@25))*t2))+((v*sin(@26))*t2))+((v*sin(@27))*t2))+((v*sin(@28))*t2))+((v*sin(@29))*t2))+((v*sin(@30))*t2))+((v*sin(@31))*t2))+((v*sin(@32))*t2))+((v*sin(@33))*t2))+((v*sin(@34))*t2))-@18)))))+((((((((((((((((((((((((((((((((@35*sq(v))+(@36*v))+@37)+(((@35*sq(v))+(@36*v))+@37))+(((@35*sq(v))+(@36*v))+@37))+(((@35*sq(v))+(@36*v))+@37))+(((@35*sq(v))+(@36*v))+@37))+(((@35*sq(v))+(@36*v))+@37))+(((@35*sq(v))+(@36*v))+@37))+(((@35*sq(v))+(@36*v))+@37))+(((@35*sq(v))+(@36*v))+@37))+(((@35*sq(v))+(@36*v))+@37))+(((@35*sq(v))+(@36*v))+@37))+(((@35*sq(v))+(@36*v))+@37))+(((@35*sq(v))+(@36*v))+@37))+(((@35*sq(v))+(@36*v))+@37))+(((@35*sq(v))+(@36*v))+@37))+(((@35*sq(v))+(@36*v))+@37))+(((@35*sq(v))+(@36*v))+@37))+(((@35*sq(v))+(@36*v))+@37))+(((@35*sq(v))+(@36*v))+@37))+(((@35*sq(v))+(@36*v))+@37))+(((@35*sq(v))+(@36*v))+@37))+(((@35*sq(v))+(@36*v))+@37))+(((@35*sq(v))+(@36*v))+@37))+(((@35*sq(v))+(@36*v))+@37))+(((@35*sq(v))+(@36*v))+@37))+(((@35*sq(v))+(@36*v))+@37))+(((@35*sq(v))+(@36*v))+@37))+(((@35*sq(v))+(@36*v))+@37))+(((@35*sq(v))+(@36*v))+@37))+(((@35*sq(v))+(@36*v))+@37)))\n",
      "g 0\n",
      "F:(x0[33],p[],lbx[33],ubx[33],lbg,ubg,lam_x0[33],lam_g0)->(x[33],f,g,lam_x[33],lam_g,lam_p[]) IpoptInterface\n"
     ]
    }
   ],
   "source": [
    "from casadi import *\n",
    "import math\n",
    "dest = [3,2]\n",
    "way = [2,1]\n",
    "obs = [6,5.7]\n",
    "#t=MX.sym('t')\n",
    "#v=MX.sym('v')\n",
    "dt=30\n",
    "dt1=int(dt/2)\n",
    "print(dt1)\n",
    "rob_rad=0.1\n",
    "obs_rad=0.1\n",
    "ang=SX.sym(\"ang\",dt)\n",
    "v=SX.sym(\"v\")\n",
    "t1=SX.sym(\"t1\")\n",
    "t2=SX.sym(\"t2\")\n",
    "print(ang)\n",
    "func,func1,func2=0,0,0\n",
    "g=0\n",
    "theta=0\n",
    "fuel_cost=0\n",
    "coff=0.00045\n",
    "for i in range(0,dt1):\n",
    "    func1=func1+v*cos(theta)*t1\n",
    "    func2=func2+v*sin(theta)*t1\n",
    "    theta=theta + (v / 1.2)*tan(ang[i])*t1\n",
    "    fuel_cost+=(-0.0177*v**2+1.48*v+3.39)\n",
    "    if i==dt1-1:\n",
    "            func_con=(sqrt(coff+(func1-way[0])**2+(func2-way[1])**2))\n",
    "for i in range(dt1,dt):\n",
    "        func1=func1+v*cos(theta)*t2\n",
    "        func2=func2+v*sin(theta)*t2\n",
    "        theta=theta + (v / 1.2)*tan(ang[i])*t2\n",
    "        fuel_cost+=(-0.0177*v**2+1.48*v+3.39)\n",
    "        if i==dt-1:\n",
    "            func=func_con+(sqrt(coff+(func1-dest[0])**2+(func2-dest[1])**2))+fuel_cost\n",
    "            #g=sqrt(coff+(func1-obs[0])**2+(func2-obs[1])**2)-(rob_rad+obs_rad)\n",
    "            #g=func_con\n",
    "            print(func)     \n",
    "            print(\"g\",g)\n",
    "nlp= {}\n",
    "nlp['x']=vertcat(ang,v,t1,t2)\n",
    "#nlp['x']=vertcat(v,t) \n",
    "nlp['f']=func\n",
    "nlp['g']=g\n",
    "mycallback = Iteration_Callback('mycallback',(dt+3), 1)\n",
    "opts = {}\n",
    "opts['iteration_callback'] = mycallback\n",
    "opts['ipopt.tol'] = 1e-5\n",
    "opts[\"ipopt.max_iter\"]=50000\n",
    "#create solver instance\n",
    "F = nlpsol('F','ipopt',nlp,opts);\n",
    "#F=qpsol('F','qpoases',nlp);\n",
    "print(F)"
   ]
  },
  {
   "cell_type": "code",
   "execution_count": 120,
   "metadata": {},
   "outputs": [
    {
     "name": "stdout",
     "output_type": "stream",
     "text": [
      "[0.002, 0.002, 0.002, 0.002, 0.002, 0.002, 0.002, 0.002, 0.002, 0.002, 0.002, 0.002, 0.002, 0.002, 0.002, 0.002, 0.002, 0.002, 0.002, 0.002, 0.002, 0.002, 0.002, 0.002, 0.002, 0.002, 0.002, 0.002, 0.002, 0.002, 0.2, 0.2, 0.2]\n",
      "This is Ipopt version 3.12.3, running with linear solver mumps.\n",
      "NOTE: Other linear solvers might be more efficient (see Ipopt documentation).\n",
      "\n",
      "Number of nonzeros in equality constraint Jacobian...:        0\n",
      "Number of nonzeros in inequality constraint Jacobian.:        0\n",
      "Number of nonzeros in Lagrangian Hessian.............:      528\n",
      "\n",
      "Total number of variables............................:       33\n",
      "                     variables with only lower bounds:        0\n",
      "                variables with lower and upper bounds:       33\n",
      "                     variables with only upper bounds:        0\n",
      "Total number of equality constraints.................:        0\n",
      "Total number of inequality constraints...............:        1\n",
      "        inequality constraints with only lower bounds:        0\n",
      "   inequality constraints with lower and upper bounds:        0\n",
      "        inequality constraints with only upper bounds:        0\n",
      "\n",
      "iter    objective    inf_pr   inf_du lg(mu)  ||d||  lg(rg) alpha_du alpha_pr  ls\n",
      "   0 1.1496685e+002 0.00e+000 3.77e+001  -1.0 0.00e+000    -  0.00e+000 0.00e+000   0\n",
      "   1 1.0834272e+002 0.00e+000 3.46e+001  -1.0 3.23e-001   2.0 8.81e-001 5.52e-001f  1\n",
      "   2 1.0853882e+002 0.00e+000 1.31e+001  -1.0 5.42e-001    -  3.16e-001 1.00e+000f  1\n",
      "   3 1.0790992e+002 0.00e+000 3.78e+000  -1.0 5.13e-002   1.5 9.96e-001 6.23e-001f  1\n",
      "   4 1.0501138e+002 0.00e+000 3.32e+000  -1.0 4.24e+000    -  1.23e-001 1.00e+000f  1\n",
      "   5 1.0371772e+002 0.00e+000 2.70e+002  -1.0 2.11e+000    -  6.05e-001 1.00e+000f  1\n",
      "   6 1.0310699e+002 0.00e+000 3.60e+001  -1.0 6.91e-002   1.0 1.00e+000 2.01e-001f  2\n",
      "   7 1.0316676e+002 0.00e+000 2.56e+001  -1.0 5.50e-001    -  1.00e+000 1.00e+000f  1\n",
      "   8 1.0328812e+002 0.00e+000 6.08e+000  -1.0 6.94e-002    -  1.00e+000 1.00e+000f  1\n",
      "   9 1.0328890e+002 0.00e+000 7.17e-003  -1.0 2.81e-002    -  1.00e+000 1.00e+000f  1\n",
      "iter    objective    inf_pr   inf_du lg(mu)  ||d||  lg(rg) alpha_du alpha_pr  ls\n",
      "  10 1.0285187e+002 0.00e+000 3.21e+001  -2.5 5.86e-001    -  8.48e-001 1.00e+000f  1\n",
      "  11 1.0281870e+002 0.00e+000 2.08e+001  -2.5 5.12e-001    -  6.19e-001 5.00e-001f  2\n",
      "  12 1.0278698e+002 0.00e+000 2.35e+001  -2.5 1.74e-002   0.6 1.00e+000 1.00e+000f  1\n",
      "  13 1.0275979e+002 0.00e+000 3.88e-001  -2.5 2.32e-001    -  8.64e-001 2.50e-001f  3\n",
      "  14 1.0274185e+002 0.00e+000 3.13e+000  -2.5 2.89e-001    -  1.00e+000 3.65e-001f  2\n",
      "  15 1.0273129e+002 0.00e+000 5.31e-001  -2.5 3.56e-002    -  1.00e+000 1.00e+000f  1\n",
      "  16 1.0273090e+002 0.00e+000 3.91e-003  -2.5 2.73e-003    -  1.00e+000 1.00e+000f  1\n",
      "  17 1.0269429e+002 0.00e+000 4.87e+000  -3.8 9.32e-002    -  7.81e-001 1.00e+000f  1\n",
      "  18 1.0268226e+002 0.00e+000 8.01e-002  -3.8 9.99e-002    -  9.40e-001 1.00e+000f  1\n",
      "  19 1.0268114e+002 0.00e+000 1.38e-001  -3.8 5.19e-002    -  1.00e+000 1.00e+000f  1\n",
      "iter    objective    inf_pr   inf_du lg(mu)  ||d||  lg(rg) alpha_du alpha_pr  ls\n",
      "  20 1.0268116e+002 0.00e+000 2.30e-002  -3.8 1.60e-002    -  1.00e+000 1.00e+000f  1\n",
      "  21 1.0268115e+002 0.00e+000 6.51e-007  -3.8 1.92e-004    -  1.00e+000 1.00e+000f  1\n",
      "  22 1.0267815e+002 0.00e+000 1.98e-001  -5.7 5.44e-002    -  7.13e-001 8.18e-001f  1\n",
      "  23 1.0267720e+002 0.00e+000 8.86e-002  -5.7 6.39e-002    -  9.01e-001 1.00e+000f  1\n",
      "  24 1.0267718e+002 0.00e+000 3.42e-004  -5.7 8.70e-003    -  1.00e+000 1.00e+000f  1\n",
      "  25 1.0267718e+002 0.00e+000 1.55e-008  -5.7 8.48e-005    -  1.00e+000 1.00e+000f  1\n",
      "\n",
      "Number of Iterations....: 25\n",
      "\n",
      "                                   (scaled)                 (unscaled)\n",
      "Objective...............:  1.0267718356884410e+002   1.0267718356884410e+002\n",
      "Dual infeasibility......:  1.5513398102523706e-008   1.5513398102523706e-008\n",
      "Constraint violation....:  0.0000000000000000e+000   0.0000000000000000e+000\n",
      "Complementarity.........:  1.8449213933308287e-006   1.8449213933308287e-006\n",
      "Overall NLP error.......:  1.8449213933308287e-006   1.8449213933308287e-006\n",
      "\n",
      "\n",
      "Number of objective function evaluations             = 47\n",
      "Number of objective gradient evaluations             = 26\n",
      "Number of equality constraint evaluations            = 0\n",
      "Number of inequality constraint evaluations          = 47\n",
      "Number of equality constraint Jacobian evaluations   = 0\n",
      "Number of inequality constraint Jacobian evaluations = 26\n",
      "Number of Lagrangian Hessian evaluations             = 25\n",
      "Total CPU secs in IPOPT (w/o function evaluations)   =      0.075\n",
      "Total CPU secs in NLP function evaluations           =      0.009\n",
      "\n",
      "EXIT: Optimal Solution Found.\n",
      "           F  :   t_proc      (avg)   t_wall      (avg)    n_eval\n",
      "callback_fun  |  61.00ms (  2.35ms)  60.70ms (  2.33ms)        26\n",
      "       nlp_f  |        0 (       0)        0 (       0)        47\n",
      "       nlp_g  |        0 (       0)        0 (       0)        47\n",
      "  nlp_grad_f  |   2.00ms ( 74.07us)   1.96ms ( 72.56us)        27\n",
      "  nlp_hess_l  |   5.00ms (200.00us)   4.87ms (194.92us)        25\n",
      "   nlp_jac_g  |        0 (       0)        0 (       0)        27\n",
      "       total  |  85.00ms ( 85.00ms)  85.10ms ( 85.10ms)         1\n",
      "solved output [DM([0.449993, 0.449992, 0.449992, 0.449991, 0.44999, 0.449989, 0.449987, 0.449985, 0.449983, 0.449978, 0.449971, 0.449957, 0.449914, 0.107517, 0.00210604, 0.00218824, 0.00220272, 0.0022196, 0.00223956, 0.0022635, 0.00229276, 0.00232933, 0.00237634, 0.002439, 0.0025267, 0.00265819, 0.00287715, 0.00331444, 0.0046211, 0.226, 0.02, 7.80628, 4.71099])]\n",
      "solved function output 102.677\n"
     ]
    },
    {
     "data": {
      "image/png": "[encoded data removed]",
      "text/plain": [
       "<Figure size 432x288 with 1 Axes>"
      ]
     },
     "metadata": {
      "needs_background": "light"
     },
     "output_type": "display_data"
    }
   ],
   "source": [
    "#solver=F(x0=[0.1,2],lbx=lbx,ubx=ubx)\n",
    "x0=[]\n",
    "lbx=[]\n",
    "ubx=[]\n",
    "# the loop for setting angle\n",
    "for i in range(0,dt):\n",
    "    x0.append(0.002)\n",
    "    lbx.append(0.002)\n",
    "    #ubx.append(0.5)  #previous value\n",
    "    ubx.append(0.45)\n",
    "# the loop for setting velocity  \n",
    "for i in range(0,1):\n",
    "    x0.append(0.2)\n",
    "    lbx.append(0.02)\n",
    "    ubx.append(2)\n",
    "# the loop for setting sample time \n",
    "for i in range(0,1):\n",
    "    x0.append(0.2)\n",
    "    lbx.append(0.02)\n",
    "    #ubx.append(2) #previous value\n",
    "    ubx.append(200)\n",
    "for i in range(0,1):\n",
    "    x0.append(0.2)\n",
    "    lbx.append(0.02)\n",
    "    #ubx.append(2) #previous value\n",
    "    ubx.append(200)\n",
    "\n",
    "print(x0)\n",
    "solver=F(x0=x0,lbx=lbx,ubx=ubx)\n",
    "out=[]\n",
    "out.append(solver[\"x\"])\n",
    "print(\"solved output\",out)\n",
    "print(\"solved function output\",solver[\"f\"])\n",
    "plt.legend([\"Cost\"])\n",
    "plt.xlabel(\"Iterations\")\n",
    "plt.ylabel(\"Cost Value\")\n",
    "plt.show()"
   ]
  },
  {
   "cell_type": "code",
   "execution_count": 121,
   "metadata": {},
   "outputs": [
    {
     "name": "stdout",
     "output_type": "stream",
     "text": [
      "2.04741 0.955973\n",
      "2.99851 2.00135\n"
     ]
    },
    {
     "data": {
      "text/plain": [
       "Text(0, 0.5, 'Y Coordinate')"
      ]
     },
     "execution_count": 121,
     "metadata": {},
     "output_type": "execute_result"
    },
    {
     "data": {
      "image/png": "[encoded data removed]",
      "text/plain": [
       "<Figure size 432x288 with 1 Axes>"
      ]
     },
     "metadata": {
      "needs_background": "light"
     },
     "output_type": "display_data"
    }
   ],
   "source": [
    "import matplotlib.pyplot as plt\n",
    "import math\n",
    "ang=[]\n",
    "v=[]\n",
    "t1=[]\n",
    "t2=[]\n",
    "for i in range(0,dt):\n",
    "    ang.append(out[0][i])\n",
    "v.append(out[0][dt])\n",
    "t1.append(out[0][dt+1])\n",
    "t2.append(out[0][dt+2])\n",
    "xc,yc=[],[]\n",
    "theta=0.0\n",
    "x1,x2=0,0\n",
    "for i in range(0,dt1):\n",
    "    x1=x1+v[0]*math.cos(theta)*t1[0]\n",
    "    x2=x2+v[0]*math.sin(theta)*t1[0]\n",
    "    theta = theta + (v[0] / 1.2) * math.tan(ang[i])*t1[0]\n",
    "    xc.append(x1)\n",
    "    yc.append(x2)\n",
    "print(x1,x2)\n",
    "for i in range(dt1,dt):\n",
    "    x1=x1+v[0]*math.cos(theta)*t2[0]\n",
    "    x2=x2+v[0]*math.sin(theta)*t2[0]\n",
    "    theta = theta + (v[0] / 1.2) * math.tan(ang[i])*t2[0]\n",
    "    xc.append(x1)\n",
    "    yc.append(x2)\n",
    "print(x1,x2)\n",
    "plt.plot(xc,yc,dest[0],dest[1],\"o\",way[0],way[1],\"D\")#,obs[0],obs[1],\"s\")\n",
    "plt.legend([\"path\", \"destination\",\"waypoint\",\"obstacle\"])\n",
    "plt.xlabel(\"X Coordinate\")\n",
    "plt.ylabel(\"Y Coordinate\")"
   ]
  },
  {
   "cell_type": "code",
   "execution_count": 299,
   "metadata": {},
   "outputs": [
    {
     "name": "stdout",
     "output_type": "stream",
     "text": [
      "4.62031\n"
     ]
    }
   ],
   "source": [
    "x_opt = solver['f']\n",
    "print(x_opt)"
   ]
  },
  {
   "cell_type": "code",
   "execution_count": 80,
   "metadata": {},
   "outputs": [
    {
     "data": {
      "text/plain": [
       "[<matplotlib.lines.Line2D at 0x2555054b8b0>]"
      ]
     },
     "execution_count": 80,
     "metadata": {},
     "output_type": "execute_result"
    },
    {
     "data": {
      "image/png": "[encoded data removed]",
      "text/plain": [
       "<Figure size 432x288 with 1 Axes>"
      ]
     },
     "metadata": {
      "needs_background": "light"
     },
     "output_type": "display_data"
    }
   ],
   "source": [
    "cost1=[]\n",
    "cost1=[5.1407028e+000,4.8279191e+000 ,\n",
    "    3.2988949e+000, \n",
    "    2.8788262e+000 ,\n",
    "    2.3243103e+000 ,\n",
    "    2.0325987e+000 ,\n",
    "    1.7099310e+000 ,\n",
    "   1.4452566e+000 ,\n",
    "    1.3194831e+000 ,\n",
    "    1.2617696e+000 ,\n",
    "  1.2360491e+000, 1.2009504e+000, \n",
    "   1.1934256e+000 ,\n",
    "   1.1910525e+000 ,\n",
    "   1.1910547e+000 ,\n",
    "   1.1908748e+000 ,\n",
    "   1.1908742e+000 ]\n",
    "plt.plot(cost1)"
   ]
  },
  {
   "cell_type": "code",
   "execution_count": 629,
   "metadata": {},
   "outputs": [
    {
     "name": "stdout",
     "output_type": "stream",
     "text": [
      "3.821345956502425\n",
      "3.821345956502425\n"
     ]
    }
   ],
   "source": [
    "xv=0\n",
    "x=[]\n",
    "v=0.4\n",
    "a=0.3\n",
    "out1=(v*cos(a))+(v*cos(a))+(v*cos(a))+(v*cos(a))+(v*cos(a))+(v*cos(a))+(v*cos(a))+(v*cos(a))+(v*cos(a))+(v*cos(a))\n",
    "for i in range(0,10):\n",
    "    xv=xv+v*cos(a)\n",
    "    x.append(xv)\n",
    "print(xv)\n",
    "print(out1)"
   ]
  },
  {
   "cell_type": "code",
   "execution_count": 27,
   "metadata": {},
   "outputs": [
    {
     "name": "stdout",
     "output_type": "stream",
     "text": [
      "S:(x0[3],p[],lbx[3],ubx[3],lbg,ubg,lam_x0[3],lam_g0)->(x[3],f,g,lam_x[3],lam_g,lam_p[]) IpoptInterface\n"
     ]
    }
   ],
   "source": [
    "x = SX.sym('x'); y = SX.sym('y'); z = SX.sym('z')\n",
    "nlp = {'x':vertcat(x,y,z), 'f':x**2+100*z**2, 'g':z+(1-x)**2-y}\n",
    "S = nlpsol('S', 'ipopt', nlp)\n",
    "print(S)"
   ]
  },
  {
   "cell_type": "code",
   "execution_count": 28,
   "metadata": {},
   "outputs": [
    {
     "name": "stdout",
     "output_type": "stream",
     "text": [
      "This is Ipopt version 3.12.3, running with linear solver mumps.\n",
      "NOTE: Other linear solvers might be more efficient (see Ipopt documentation).\n",
      "\n",
      "Number of nonzeros in equality constraint Jacobian...:        3\n",
      "Number of nonzeros in inequality constraint Jacobian.:        0\n",
      "Number of nonzeros in Lagrangian Hessian.............:        2\n",
      "\n",
      "Total number of variables............................:        3\n",
      "                     variables with only lower bounds:        0\n",
      "                variables with lower and upper bounds:        0\n",
      "                     variables with only upper bounds:        0\n",
      "Total number of equality constraints.................:        1\n",
      "Total number of inequality constraints...............:        0\n",
      "        inequality constraints with only lower bounds:        0\n",
      "   inequality constraints with lower and upper bounds:        0\n",
      "        inequality constraints with only upper bounds:        0\n",
      "\n",
      "iter    objective    inf_pr   inf_du lg(mu)  ||d||  lg(rg) alpha_du alpha_pr  ls\n",
      "   0 6.2500000e+001 0.00e+000 9.00e+001  -1.0 0.00e+000    -  0.00e+000 0.00e+000   0\n",
      "   1 1.8457621e+001 1.48e-002 4.10e+001  -1.0 4.10e-001   2.0 1.00e+000 1.00e+000f  1\n",
      "   2 7.8031530e+000 3.84e-003 8.76e+000  -1.0 2.63e-001   1.5 1.00e+000 1.00e+000f  1\n",
      "   3 7.1678278e+000 9.42e-005 1.04e+000  -1.0 9.32e-002   1.0 1.00e+000 1.00e+000f  1\n",
      "   4 6.7419924e+000 6.18e-003 9.95e-001  -1.0 2.69e-001   0.6 1.00e+000 1.00e+000f  1\n",
      "   5 5.4363330e+000 7.03e-002 1.04e+000  -1.7 8.40e-001   0.1 1.00e+000 1.00e+000f  1\n",
      "   6 1.2144815e+000 1.52e+000 1.32e+000  -1.7 3.21e+000  -0.4 1.00e+000 1.00e+000f  1\n",
      "   7 1.0214718e+000 2.51e-001 1.17e+001  -1.7 1.33e+000   0.9 1.00e+000 1.00e+000h  1\n",
      "   8 3.1864085e-001 1.04e-003 7.53e-001  -1.7 3.58e-001    -  1.00e+000 1.00e+000f  1\n",
      "   9 0.0000000e+000 3.19e-001 0.00e+000  -1.7 5.64e-001    -  1.00e+000 1.00e+000f  1\n",
      "iter    objective    inf_pr   inf_du lg(mu)  ||d||  lg(rg) alpha_du alpha_pr  ls\n",
      "  10 0.0000000e+000 0.00e+000 0.00e+000  -1.7 3.19e-001    -  1.00e+000 1.00e+000h  1\n",
      "\n",
      "Number of Iterations....: 10\n",
      "\n",
      "                                   (scaled)                 (unscaled)\n",
      "Objective...............:  0.0000000000000000e+000   0.0000000000000000e+000\n",
      "Dual infeasibility......:  0.0000000000000000e+000   0.0000000000000000e+000\n",
      "Constraint violation....:  0.0000000000000000e+000   0.0000000000000000e+000\n",
      "Complementarity.........:  0.0000000000000000e+000   0.0000000000000000e+000\n",
      "Overall NLP error.......:  0.0000000000000000e+000   0.0000000000000000e+000\n",
      "\n",
      "\n",
      "Number of objective function evaluations             = 11\n",
      "Number of objective gradient evaluations             = 11\n",
      "Number of equality constraint evaluations            = 11\n",
      "Number of inequality constraint evaluations          = 0\n",
      "Number of equality constraint Jacobian evaluations   = 11\n",
      "Number of inequality constraint Jacobian evaluations = 0\n",
      "Number of Lagrangian Hessian evaluations             = 10\n",
      "Total CPU secs in IPOPT (w/o function evaluations)   =      0.042\n",
      "Total CPU secs in NLP function evaluations           =      0.000\n",
      "\n",
      "EXIT: Optimal Solution Found.\n",
      "           S  :   t_proc      (avg)   t_wall      (avg)    n_eval\n",
      "       nlp_f  |        0 (       0)        0 (       0)        11\n",
      "       nlp_g  |        0 (       0)        0 (       0)        11\n",
      "  nlp_grad_f  |        0 (       0)        0 (       0)        12\n",
      "  nlp_hess_l  |        0 (       0)        0 (       0)        10\n",
      "   nlp_jac_g  |        0 (       0)        0 (       0)        12\n",
      "       total  |  50.00ms ( 50.00ms)  49.87ms ( 49.87ms)         1\n",
      "x_opt:  [0, 1, 0]\n"
     ]
    }
   ],
   "source": [
    "r = S(x0=[2.5,3.0,0.75],lbg=0, ubg=0)\n",
    "x_opt = r['x']\n",
    "print('x_opt: ', x_opt)"
   ]
  }
 ],
 "metadata": {
  "kernelspec": {
   "display_name": "Python 3",
   "language": "python",
   "name": "python3"
  },
  "language_info": {
   "codemirror_mode": {
    "name": "ipython",
    "version": 3
   },
   "file_extension": ".py",
   "mimetype": "text/x-python",
   "name": "python",
   "nbconvert_exporter": "python",
   "pygments_lexer": "ipython3",
   "version": "3.8.5"
  }
 },
 "nbformat": 4,
 "nbformat_minor": 4
}
